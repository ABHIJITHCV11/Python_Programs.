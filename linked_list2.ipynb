{
 "cells": [
  {
   "cell_type": "code",
   "execution_count": 140,
   "id": "2faf56f6",
   "metadata": {},
   "outputs": [],
   "source": [
    "class Node:\n",
    "    def __init__(self,data):\n",
    "        self.data = data\n",
    "        self.next = None\n",
    "        \n",
    "class LinkedList:\n",
    "    def __init__(self):\n",
    "        self.head = None\n",
    "    \n",
    "    def insert(self,new_node):\n",
    "        if self.head == None:\n",
    "            self.head = new_node\n",
    "        \n",
    "        else:\n",
    "            temp = self.head\n",
    "            while temp.next is not None:\n",
    "                temp = temp.next\n",
    "            temp.next = new_node    \n",
    "        \n",
    "    def display(self):\n",
    "        temp = self.head\n",
    "        while temp is not None:\n",
    "            print(temp.data)\n",
    "            temp = temp.next \n",
    "            \n",
    "    def reverse(self):\n",
    "        l = None\n",
    "        r = self.head\n",
    "        while True:\n",
    "            t = r.next\n",
    "            r.next = l\n",
    "            l = r \n",
    "            r = t  \n",
    "            if r.next is None:\n",
    "                self.head = r\n",
    "                self.head.next = l\n",
    "                break\n",
    "                \n",
    "    def reverse1(self):\n",
    "        l=None\n",
    "        r=self.head\n",
    "        \n",
    "        while r: \n",
    "            t = r.next\n",
    "            r.next = l\n",
    "            l = r\n",
    "            r = t\n",
    "        self.head = l\n",
    "            \n",
    "                  "
   ]
  },
  {
   "cell_type": "code",
   "execution_count": 141,
   "id": "9266bf1f",
   "metadata": {
    "scrolled": true
   },
   "outputs": [],
   "source": [
    "first_node = Node(\"John\")\n",
    "second_node = Node(\"Ben\")\n",
    "third_node = Node(\"Mathew\")\n",
    "final_node = Node(\"abikool\")\n",
    "linked_list = LinkedList()\n",
    "linked_list.insert(first_node)\n",
    "linked_list.insert(second_node)\n",
    "linked_list.insert(third_node)\n",
    "linked_list.insert(final_node)"
   ]
  },
  {
   "cell_type": "code",
   "execution_count": 142,
   "id": "7ec8d282",
   "metadata": {
    "scrolled": true
   },
   "outputs": [
    {
     "name": "stdout",
     "output_type": "stream",
     "text": [
      "John\n",
      "Ben\n",
      "Mathew\n",
      "abikool\n"
     ]
    }
   ],
   "source": [
    "linked_list.display()"
   ]
  },
  {
   "cell_type": "code",
   "execution_count": 143,
   "id": "6827e1e2",
   "metadata": {},
   "outputs": [],
   "source": [
    "linked_list.reverse1()"
   ]
  },
  {
   "cell_type": "code",
   "execution_count": 144,
   "id": "d45e8a97",
   "metadata": {},
   "outputs": [
    {
     "name": "stdout",
     "output_type": "stream",
     "text": [
      "abikool\n",
      "Mathew\n",
      "Ben\n",
      "John\n"
     ]
    }
   ],
   "source": [
    "linked_list.display()"
   ]
  },
  {
   "cell_type": "code",
   "execution_count": 145,
   "id": "8b4f12f9",
   "metadata": {},
   "outputs": [
    {
     "data": {
      "text/plain": [
       "<__main__.Node at 0x1b15b658710>"
      ]
     },
     "execution_count": 145,
     "metadata": {},
     "output_type": "execute_result"
    }
   ],
   "source": [
    "linked_list.head"
   ]
  },
  {
   "cell_type": "code",
   "execution_count": null,
   "id": "061e93c1",
   "metadata": {},
   "outputs": [],
   "source": []
  }
 ],
 "metadata": {
  "kernelspec": {
   "display_name": "Python 3 (ipykernel)",
   "language": "python",
   "name": "python3"
  },
  "language_info": {
   "codemirror_mode": {
    "name": "ipython",
    "version": 3
   },
   "file_extension": ".py",
   "mimetype": "text/x-python",
   "name": "python",
   "nbconvert_exporter": "python",
   "pygments_lexer": "ipython3",
   "version": "3.11.5"
  }
 },
 "nbformat": 4,
 "nbformat_minor": 5
}
