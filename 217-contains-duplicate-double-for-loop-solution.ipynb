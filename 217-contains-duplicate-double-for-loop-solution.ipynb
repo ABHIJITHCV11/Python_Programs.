{
 "cells": [
  {
   "cell_type": "code",
   "execution_count": 13,
   "metadata": {
    "execution": {
     "iopub.execute_input": "2022-11-30T11:33:30.919574Z",
     "iopub.status.busy": "2022-11-30T11:33:30.919211Z",
     "iopub.status.idle": "2022-11-30T11:33:30.924861Z",
     "shell.execute_reply": "2022-11-30T11:33:30.923915Z",
     "shell.execute_reply.started": "2022-11-30T11:33:30.919543Z"
    }
   },
   "outputs": [],
   "source": [
    "def duplicate_checker(nums):\n",
    "    \"\"\"\n",
    "    Given an integer array nums, \n",
    "    return true if any value appears at least twice in the array, \n",
    "    and return false if every element is distinct.\n",
    "    \"\"\"\n",
    "    s1 = set()\n",
    "    for num in nums:\n",
    "        if num in s1:\n",
    "            return True\n",
    "        s1.add(num)\n",
    "    return False"
   ]
  },
  {
   "cell_type": "code",
   "execution_count": 19,
   "metadata": {
    "execution": {
     "iopub.execute_input": "2022-11-30T11:33:30.926552Z",
     "iopub.status.busy": "2022-11-30T11:33:30.926270Z",
     "iopub.status.idle": "2022-11-30T11:33:30.944514Z",
     "shell.execute_reply": "2022-11-30T11:33:30.943025Z",
     "shell.execute_reply.started": "2022-11-30T11:33:30.926527Z"
    }
   },
   "outputs": [],
   "source": [
    "l1 = [1,2,3,4]\n",
    "l2 = [2,3,4,6]\n",
    "l3 = [2,3,4,5,6,7,8,3]\n",
    "l4 = [1,2]\n",
    "l5 = [0,0]"
   ]
  },
  {
   "cell_type": "code",
   "execution_count": 20,
   "metadata": {
    "execution": {
     "iopub.execute_input": "2022-11-30T11:33:30.947617Z",
     "iopub.status.busy": "2022-11-30T11:33:30.946625Z",
     "iopub.status.idle": "2022-11-30T11:33:30.957253Z",
     "shell.execute_reply": "2022-11-30T11:33:30.955985Z",
     "shell.execute_reply.started": "2022-11-30T11:33:30.947575Z"
    }
   },
   "outputs": [
    {
     "data": {
      "text/plain": [
       "False"
      ]
     },
     "execution_count": 20,
     "metadata": {},
     "output_type": "execute_result"
    }
   ],
   "source": [
    "duplicate_checker(l1)"
   ]
  },
  {
   "cell_type": "code",
   "execution_count": 21,
   "metadata": {
    "execution": {
     "iopub.execute_input": "2022-11-30T11:33:30.959567Z",
     "iopub.status.busy": "2022-11-30T11:33:30.958370Z",
     "iopub.status.idle": "2022-11-30T11:33:30.968727Z",
     "shell.execute_reply": "2022-11-30T11:33:30.967727Z",
     "shell.execute_reply.started": "2022-11-30T11:33:30.959505Z"
    }
   },
   "outputs": [
    {
     "data": {
      "text/plain": [
       "False"
      ]
     },
     "execution_count": 21,
     "metadata": {},
     "output_type": "execute_result"
    }
   ],
   "source": [
    "duplicate_checker(l2)"
   ]
  },
  {
   "cell_type": "code",
   "execution_count": 22,
   "metadata": {
    "execution": {
     "iopub.execute_input": "2022-11-30T11:33:30.971042Z",
     "iopub.status.busy": "2022-11-30T11:33:30.970632Z",
     "iopub.status.idle": "2022-11-30T11:33:30.980861Z",
     "shell.execute_reply": "2022-11-30T11:33:30.979760Z",
     "shell.execute_reply.started": "2022-11-30T11:33:30.971005Z"
    }
   },
   "outputs": [
    {
     "data": {
      "text/plain": [
       "True"
      ]
     },
     "execution_count": 22,
     "metadata": {},
     "output_type": "execute_result"
    }
   ],
   "source": [
    "duplicate_checker(l3)"
   ]
  },
  {
   "cell_type": "code",
   "execution_count": 18,
   "metadata": {
    "execution": {
     "iopub.execute_input": "2022-11-30T11:33:30.982856Z",
     "iopub.status.busy": "2022-11-30T11:33:30.982339Z",
     "iopub.status.idle": "2022-11-30T11:33:30.990722Z",
     "shell.execute_reply": "2022-11-30T11:33:30.989760Z",
     "shell.execute_reply.started": "2022-11-30T11:33:30.982822Z"
    },
    "scrolled": true
   },
   "outputs": [
    {
     "data": {
      "text/plain": [
       "False"
      ]
     },
     "execution_count": 18,
     "metadata": {},
     "output_type": "execute_result"
    }
   ],
   "source": [
    "duplicate_checker(l4)"
   ]
  },
  {
   "cell_type": "code",
   "execution_count": 23,
   "metadata": {},
   "outputs": [
    {
     "data": {
      "text/plain": [
       "True"
      ]
     },
     "execution_count": 23,
     "metadata": {},
     "output_type": "execute_result"
    }
   ],
   "source": [
    "duplicate_checker(l5)"
   ]
  }
 ],
 "metadata": {
  "kernelspec": {
   "display_name": "Python 3 (ipykernel)",
   "language": "python",
   "name": "python3"
  },
  "language_info": {
   "codemirror_mode": {
    "name": "ipython",
    "version": 3
   },
   "file_extension": ".py",
   "mimetype": "text/x-python",
   "name": "python",
   "nbconvert_exporter": "python",
   "pygments_lexer": "ipython3",
   "version": "3.9.7"
  }
 },
 "nbformat": 4,
 "nbformat_minor": 4
}
