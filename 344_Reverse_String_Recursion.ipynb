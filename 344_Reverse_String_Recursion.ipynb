{
 "cells": [
  {
   "cell_type": "code",
   "execution_count": 1,
   "id": "963f3634",
   "metadata": {},
   "outputs": [],
   "source": [
    "class Solution:\n",
    "    def reverseString(self, s) -> None:\n",
    "        \"\"\"\n",
    "        Do not return anything, modify s in-place instead.\n",
    "        \"\"\"\n",
    "        # Using recursion\n",
    "        l,r = 0,len(s)-1\n",
    "        \n",
    "        def swap(s,l,r):\n",
    "            print(l,r)\n",
    "            if not l<r:\n",
    "                return \n",
    "            while(l<r):\n",
    "                s[l],s[r] = s[r],s[l]\n",
    "                return swap(s,l+1,r-1)    \n",
    "        swap(s,l,r)    "
   ]
  }
 ],
 "metadata": {
  "kernelspec": {
   "display_name": "Python 3 (ipykernel)",
   "language": "python",
   "name": "python3"
  },
  "language_info": {
   "codemirror_mode": {
    "name": "ipython",
    "version": 3
   },
   "file_extension": ".py",
   "mimetype": "text/x-python",
   "name": "python",
   "nbconvert_exporter": "python",
   "pygments_lexer": "ipython3",
   "version": "3.11.5"
  }
 },
 "nbformat": 4,
 "nbformat_minor": 5
}
