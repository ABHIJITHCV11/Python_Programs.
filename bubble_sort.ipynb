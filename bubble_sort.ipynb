{
 "cells": [
  {
   "cell_type": "code",
   "execution_count": 219,
   "id": "43cb0917",
   "metadata": {},
   "outputs": [
    {
     "data": {
      "text/plain": [
       "[95, 3, -1, 5]"
      ]
     },
     "execution_count": 219,
     "metadata": {},
     "output_type": "execute_result"
    }
   ],
   "source": [
    "a = [95,3,-1,5]\n",
    "a"
   ]
  },
  {
   "cell_type": "code",
   "execution_count": 220,
   "id": "760e78e9",
   "metadata": {},
   "outputs": [
    {
     "name": "stdout",
     "output_type": "stream",
     "text": [
      "[3, 95, -1, 5]\n",
      "[3, -1, 95, 5]\n",
      "[3, -1, 5, 95]\n",
      "[-1, 3, 5, 95]\n",
      "[-1, 3, 5, 95]\n",
      "[-1, 3, 5, 95]\n"
     ]
    }
   ],
   "source": [
    "for j in range(len(a)):\n",
    "    for i in range(len(a)-1-j):\n",
    "        k = i+1\n",
    "        if(a[i] > a[k]):\n",
    "            a[i],a[k] = a[k],a[i]\n",
    "        print(a)        "
   ]
  }
 ],
 "metadata": {
  "kernelspec": {
   "display_name": "Python 3 (ipykernel)",
   "language": "python",
   "name": "python3"
  },
  "language_info": {
   "codemirror_mode": {
    "name": "ipython",
    "version": 3
   },
   "file_extension": ".py",
   "mimetype": "text/x-python",
   "name": "python",
   "nbconvert_exporter": "python",
   "pygments_lexer": "ipython3",
   "version": "3.11.5"
  }
 },
 "nbformat": 4,
 "nbformat_minor": 5
}
