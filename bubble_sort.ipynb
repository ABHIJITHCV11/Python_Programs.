{
 "cells": [
  {
   "cell_type": "code",
   "execution_count": 37,
   "id": "43cb0917",
   "metadata": {},
   "outputs": [
    {
     "data": {
      "text/plain": [
       "[4, 3, 2, 1]"
      ]
     },
     "execution_count": 37,
     "metadata": {},
     "output_type": "execute_result"
    }
   ],
   "source": [
    "a = [4,3,2,1]\n",
    "a"
   ]
  },
  {
   "cell_type": "markdown",
   "id": "7695843c",
   "metadata": {},
   "source": [
    "#### -1 in the first forloop so that it wont inter the loop in the last iteration\n",
    "#### If -1 is not there then len(a) - 1 - j ensures that it will be 0. the inner loop wont be entered in that case"
   ]
  },
  {
   "cell_type": "code",
   "execution_count": 36,
   "id": "760e78e9",
   "metadata": {},
   "outputs": [
    {
     "name": "stdout",
     "output_type": "stream",
     "text": [
      "[1, 2, 3, 4]\n",
      "[1, 2, 3, 4]\n",
      "[1, 2, 3, 4]\n",
      "[1, 2, 3, 4]\n",
      "[1, 2, 3, 4]\n",
      "[1, 2, 3, 4]\n",
      "[1, 2, 3, 4]\n"
     ]
    }
   ],
   "source": [
    "print(a)\n",
    "for j in range(len(a)-1): \n",
    "    for i in range(len(a)-1-j):\n",
    "        k = i+1\n",
    "        if(a[i] > a[k]):\n",
    "            a[i],a[k] = a[k],a[i]\n",
    "        print(a)        "
   ]
  },
  {
   "cell_type": "code",
   "execution_count": null,
   "id": "8209d18f",
   "metadata": {},
   "outputs": [],
   "source": []
  }
 ],
 "metadata": {
  "kernelspec": {
   "display_name": "Python 3 (ipykernel)",
   "language": "python",
   "name": "python3"
  },
  "language_info": {
   "codemirror_mode": {
    "name": "ipython",
    "version": 3
   },
   "file_extension": ".py",
   "mimetype": "text/x-python",
   "name": "python",
   "nbconvert_exporter": "python",
   "pygments_lexer": "ipython3",
   "version": "3.11.5"
  }
 },
 "nbformat": 4,
 "nbformat_minor": 5
}
