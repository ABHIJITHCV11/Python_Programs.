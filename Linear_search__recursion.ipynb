{
 "cells": [
  {
   "cell_type": "code",
   "execution_count": 28,
   "id": "87cf2a3c-6e08-487b-92ed-3d55f7a8ae09",
   "metadata": {},
   "outputs": [],
   "source": [
    "def ls(arr,ind,t):\n",
    "    l = []\n",
    "    if ind == len(arr):\n",
    "        return l\n",
    "    if arr[ind] == t:\n",
    "        l.append(ind)\n",
    "    fl = l + ls(arr,ind+1,t)\n",
    "    return fl"
   ]
  },
  {
   "cell_type": "code",
   "execution_count": 29,
   "id": "b296b8cf-e69d-4088-b2be-1676b780815b",
   "metadata": {},
   "outputs": [],
   "source": [
    "a = [1,2,3,3,4,3]\n",
    "b = [23,11,2,34,56,12]"
   ]
  },
  {
   "cell_type": "code",
   "execution_count": 30,
   "id": "3d49880e-9760-4d7f-baf1-1361b00124cb",
   "metadata": {},
   "outputs": [
    {
     "data": {
      "text/plain": [
       "[2, 3, 5]"
      ]
     },
     "execution_count": 30,
     "metadata": {},
     "output_type": "execute_result"
    }
   ],
   "source": [
    "ls(a,0,3)"
   ]
  },
  {
   "cell_type": "code",
   "execution_count": 27,
   "id": "1c0af386-3b6e-476a-b6fb-af9b2aea2323",
   "metadata": {},
   "outputs": [
    {
     "data": {
      "text/plain": [
       "[]"
      ]
     },
     "execution_count": 27,
     "metadata": {},
     "output_type": "execute_result"
    }
   ],
   "source": [
    "ls(b,0,3)"
   ]
  }
 ],
 "metadata": {
  "kernelspec": {
   "display_name": "Python 3 (ipykernel)",
   "language": "python",
   "name": "python3"
  },
  "language_info": {
   "codemirror_mode": {
    "name": "ipython",
    "version": 3
   },
   "file_extension": ".py",
   "mimetype": "text/x-python",
   "name": "python",
   "nbconvert_exporter": "python",
   "pygments_lexer": "ipython3",
   "version": "3.11.0"
  }
 },
 "nbformat": 4,
 "nbformat_minor": 5
}
