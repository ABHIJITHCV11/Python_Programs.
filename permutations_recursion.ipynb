{
 "cells": [
  {
   "cell_type": "code",
   "execution_count": 22,
   "id": "a97c8cc4-e691-4735-a86e-010cfd0d7c91",
   "metadata": {},
   "outputs": [],
   "source": [
    "def per(p,up): # kunaaaaal\n",
    "    if up == '':\n",
    "        print(p)\n",
    "        return\n",
    "\n",
    "    ch = up[0]\n",
    "    for i in range(len(p)+1):\n",
    "        f = p[:i]\n",
    "        l = p[i:]        \n",
    "        per(f+ch+l,up[1:])\n",
    "        "
   ]
  },
  {
   "cell_type": "code",
   "execution_count": 23,
   "id": "1fc36c3f-e35f-4aca-892f-85ec54d2f4d6",
   "metadata": {},
   "outputs": [
    {
     "name": "stdout",
     "output_type": "stream",
     "text": [
      "cba\n",
      "bca\n",
      "bac\n",
      "cab\n",
      "acb\n",
      "abc\n"
     ]
    }
   ],
   "source": [
    "per('','abc')"
   ]
  },
  {
   "cell_type": "code",
   "execution_count": 26,
   "id": "a626ab3d-db51-46c2-ab2e-14f5aa88f8b2",
   "metadata": {},
   "outputs": [
    {
     "name": "stdout",
     "output_type": "stream",
     "text": [
      "BPS\n",
      "PBS\n",
      "PSB\n",
      "BSP\n",
      "SBP\n",
      "SPB\n"
     ]
    }
   ],
   "source": [
    "per('','SPB')"
   ]
  },
  {
   "cell_type": "code",
   "execution_count": null,
   "id": "ffb9a5f4-45e4-492a-b71d-6724278a92e3",
   "metadata": {},
   "outputs": [],
   "source": []
  }
 ],
 "metadata": {
  "kernelspec": {
   "display_name": "Python 3 (ipykernel)",
   "language": "python",
   "name": "python3"
  },
  "language_info": {
   "codemirror_mode": {
    "name": "ipython",
    "version": 3
   },
   "file_extension": ".py",
   "mimetype": "text/x-python",
   "name": "python",
   "nbconvert_exporter": "python",
   "pygments_lexer": "ipython3",
   "version": "3.11.0"
  }
 },
 "nbformat": 4,
 "nbformat_minor": 5
}
