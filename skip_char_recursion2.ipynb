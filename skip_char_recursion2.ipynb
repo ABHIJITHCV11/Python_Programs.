{
 "cells": [
  {
   "cell_type": "code",
   "execution_count": 35,
   "id": "9ef5c3e5-133c-4c0f-88ff-5f766957d792",
   "metadata": {},
   "outputs": [],
   "source": [
    "a = 'aacaada1123h jak'\n",
    "k = ''"
   ]
  },
  {
   "cell_type": "code",
   "execution_count": 36,
   "id": "d17caf84-a883-44f5-a15d-eb0e9616376b",
   "metadata": {},
   "outputs": [],
   "source": [
    "def skip_char2(s):\n",
    "    if s == '':\n",
    "        return ''\n",
    "    else:\n",
    "        if s[0] == 'a':\n",
    "            return skip_char2(s[1:])\n",
    "        else:\n",
    "            return s[0] + skip_char2(s[1:])\n"
   ]
  },
  {
   "cell_type": "code",
   "execution_count": 37,
   "id": "f904915c-4b39-4a0a-8588-7f9b04da5eed",
   "metadata": {},
   "outputs": [
    {
     "data": {
      "text/plain": [
       "'cd1123h jk'"
      ]
     },
     "execution_count": 37,
     "metadata": {},
     "output_type": "execute_result"
    }
   ],
   "source": [
    "skip_char2(a)"
   ]
  },
  {
   "cell_type": "code",
   "execution_count": null,
   "id": "04580d33-f76a-46ba-89b0-bb82fda8b36e",
   "metadata": {},
   "outputs": [],
   "source": []
  }
 ],
 "metadata": {
  "kernelspec": {
   "display_name": "Python 3 (ipykernel)",
   "language": "python",
   "name": "python3"
  },
  "language_info": {
   "codemirror_mode": {
    "name": "ipython",
    "version": 3
   },
   "file_extension": ".py",
   "mimetype": "text/x-python",
   "name": "python",
   "nbconvert_exporter": "python",
   "pygments_lexer": "ipython3",
   "version": "3.11.0"
  }
 },
 "nbformat": 4,
 "nbformat_minor": 5
}
