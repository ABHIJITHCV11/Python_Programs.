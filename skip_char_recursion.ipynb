{
 "cells": [
  {
   "cell_type": "code",
   "execution_count": 31,
   "id": "9ef5c3e5-133c-4c0f-88ff-5f766957d792",
   "metadata": {},
   "outputs": [],
   "source": [
    "a = 'aacaada1123h jak'\n",
    "o = ''"
   ]
  },
  {
   "cell_type": "code",
   "execution_count": 32,
   "id": "21293828-a3b7-4591-8720-e2d0b4fba148",
   "metadata": {},
   "outputs": [
    {
     "data": {
      "text/plain": [
       "'aacaada1123h jak'"
      ]
     },
     "execution_count": 32,
     "metadata": {},
     "output_type": "execute_result"
    }
   ],
   "source": [
    "a[:]"
   ]
  },
  {
   "cell_type": "code",
   "execution_count": 33,
   "id": "d17caf84-a883-44f5-a15d-eb0e9616376b",
   "metadata": {},
   "outputs": [],
   "source": [
    "def skip_char(s,k):\n",
    "    if s == '':\n",
    "        return k\n",
    "    else:\n",
    "        if s[0]=='a':\n",
    "            return skip_char(s[1:],k)\n",
    "        elif s[0]!='a':    \n",
    "            return skip_char(s[1:],k=k+s[0])"
   ]
  },
  {
   "cell_type": "code",
   "execution_count": 30,
   "id": "9984c448-5a8f-4a72-8b62-af0176490292",
   "metadata": {},
   "outputs": [
    {
     "data": {
      "text/plain": [
       "'cd1123h jk'"
      ]
     },
     "execution_count": 30,
     "metadata": {},
     "output_type": "execute_result"
    }
   ],
   "source": [
    "skip_char(a,o)"
   ]
  }
 ],
 "metadata": {
  "kernelspec": {
   "display_name": "Python 3 (ipykernel)",
   "language": "python",
   "name": "python3"
  },
  "language_info": {
   "codemirror_mode": {
    "name": "ipython",
    "version": 3
   },
   "file_extension": ".py",
   "mimetype": "text/x-python",
   "name": "python",
   "nbconvert_exporter": "python",
   "pygments_lexer": "ipython3",
   "version": "3.11.0"
  }
 },
 "nbformat": 4,
 "nbformat_minor": 5
}
