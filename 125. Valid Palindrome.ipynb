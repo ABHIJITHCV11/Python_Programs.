{
 "cells": [
  {
   "cell_type": "code",
   "execution_count": 33,
   "id": "d6b1c511",
   "metadata": {},
   "outputs": [],
   "source": [
    "def isPalindrome(s: str) -> bool:\n",
    "    l=0\n",
    "    r=len(s) - 1\n",
    "    while(l < r):\n",
    "        if(s[l].isalnum()):\n",
    "            if(s[r].isalnum()):\n",
    "                if s[l].lower() != s[r].lower():\n",
    "                    return False\n",
    "                else:\n",
    "                    r=r-1\n",
    "                    l=l+1\n",
    "            else:\n",
    "                r=r-1\n",
    "        else:\n",
    "            l=l+1\n",
    "                \n",
    "    return True"
   ]
  },
  {
   "cell_type": "code",
   "execution_count": 34,
   "id": "8959ba50",
   "metadata": {},
   "outputs": [],
   "source": [
    "s1 = 'asd5%$'\n",
    "s2 ='abhi'\n",
    "s3 = '%maLayalaM2'\n",
    "s4 = \"A man, a plan, a canal: Panama\""
   ]
  },
  {
   "cell_type": "code",
   "execution_count": 35,
   "id": "15ebea4a",
   "metadata": {},
   "outputs": [
    {
     "data": {
      "text/plain": [
       "False"
      ]
     },
     "execution_count": 35,
     "metadata": {},
     "output_type": "execute_result"
    }
   ],
   "source": [
    "isPalindrome(s1)"
   ]
  },
  {
   "cell_type": "code",
   "execution_count": 36,
   "id": "0206978c",
   "metadata": {},
   "outputs": [
    {
     "data": {
      "text/plain": [
       "False"
      ]
     },
     "execution_count": 36,
     "metadata": {},
     "output_type": "execute_result"
    }
   ],
   "source": [
    "isPalindrome(s2)"
   ]
  },
  {
   "cell_type": "code",
   "execution_count": 37,
   "id": "d6d68867",
   "metadata": {},
   "outputs": [
    {
     "data": {
      "text/plain": [
       "False"
      ]
     },
     "execution_count": 37,
     "metadata": {},
     "output_type": "execute_result"
    }
   ],
   "source": [
    "isPalindrome(s3)"
   ]
  },
  {
   "cell_type": "code",
   "execution_count": 30,
   "id": "4614cf81",
   "metadata": {},
   "outputs": [
    {
     "data": {
      "text/plain": [
       "True"
      ]
     },
     "execution_count": 30,
     "metadata": {},
     "output_type": "execute_result"
    }
   ],
   "source": [
    "isPalindrome(s4)"
   ]
  },
  {
   "cell_type": "code",
   "execution_count": null,
   "id": "96a99a63",
   "metadata": {},
   "outputs": [],
   "source": []
  }
 ],
 "metadata": {
  "kernelspec": {
   "display_name": "Python 3 (ipykernel)",
   "language": "python",
   "name": "python3"
  },
  "language_info": {
   "codemirror_mode": {
    "name": "ipython",
    "version": 3
   },
   "file_extension": ".py",
   "mimetype": "text/x-python",
   "name": "python",
   "nbconvert_exporter": "python",
   "pygments_lexer": "ipython3",
   "version": "3.9.7"
  }
 },
 "nbformat": 4,
 "nbformat_minor": 5
}
